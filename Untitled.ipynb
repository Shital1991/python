{
 "cells": [
  {
   "cell_type": "code",
   "execution_count": null,
   "id": "14d8dc97-5b7f-4581-8135-5090ab6663cc",
   "metadata": {},
   "outputs": [],
   "source": [
    "import pandas as pd"
   ]
  },
  {
   "cell_type": "code",
   "execution_count": null,
   "id": "a1aff486-746e-4269-bfde-fb4756be24be",
   "metadata": {},
   "outputs": [],
   "source": [
    "data = ['I','m','shita']"
   ]
  },
  {
   "cell_type": "code",
   "execution_count": null,
   "id": "96317547-d327-44f7-a610-1ea8110a9f28",
   "metadata": {},
   "outputs": [],
   "source": [
    "s = pd.series(data,index=[])"
   ]
  },
  {
   "cell_type": "code",
   "execution_count": null,
   "id": "53bbecd3-6345-4f53-8895-af8e58936da8",
   "metadata": {},
   "outputs": [],
   "source": [
    "s"
   ]
  },
  {
   "cell_type": "code",
   "execution_count": null,
   "id": "fc2343df-54d9-4587-8b4b-11a5e382303e",
   "metadata": {},
   "outputs": [],
   "source": []
  }
 ],
 "metadata": {
  "kernelspec": {
   "display_name": "",
   "name": ""
  },
  "language_info": {
   "name": ""
  }
 },
 "nbformat": 4,
 "nbformat_minor": 5
}
