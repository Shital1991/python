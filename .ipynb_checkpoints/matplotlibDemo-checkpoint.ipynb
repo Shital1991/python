{
 "cells": [
  {
   "cell_type": "code",
   "execution_count": 1,
   "id": "1c859d6c-4277-4065-96e5-b3c9facf3c2b",
   "metadata": {},
   "outputs": [],
   "source": [
    "import matplotlib.pyplot as plt"
   ]
  },
  {
   "cell_type": "code",
   "execution_count": 2,
   "id": "7b2ce57e-8984-41d6-bac1-7a61896c6469",
   "metadata": {},
   "outputs": [],
   "source": [
    "from matplotlib import style"
   ]
  },
  {
   "cell_type": "code",
   "execution_count": 4,
   "id": "a922518f-fe3f-49b6-bdf3-f611da789ba3",
   "metadata": {},
   "outputs": [],
   "source": [
    "import numpy as np"
   ]
  },
  {
   "cell_type": "code",
   "execution_count": 5,
   "id": "1fcd17b9-afd8-4fd4-b14a-4aa3a5c12984",
   "metadata": {},
   "outputs": [],
   "source": [
    "import pandas as pd"
   ]
  },
  {
   "cell_type": "code",
   "execution_count": 6,
   "id": "f52a94dc-170f-4aaa-8df7-7942636872d9",
   "metadata": {},
   "outputs": [],
   "source": [
    "%matplotlib inline"
   ]
  },
  {
   "cell_type": "code",
   "execution_count": null,
   "id": "02cf7659-c458-4fc0-b1ff-d7dba2eeeaf6",
   "metadata": {},
   "outputs": [],
   "source": [
    "#df = pd.read_csv('csvfile')\n",
    "type(df)\n",
    "\n",
    "df.temp.plot()"
   ]
  }
 ],
 "metadata": {
  "kernelspec": {
   "display_name": "Python 3 (ipykernel)",
   "language": "python",
   "name": "python3"
  },
  "language_info": {
   "codemirror_mode": {
    "name": "ipython",
    "version": 3
   },
   "file_extension": ".py",
   "mimetype": "text/x-python",
   "name": "python",
   "nbconvert_exporter": "python",
   "pygments_lexer": "ipython3",
   "version": "3.9.12"
  }
 },
 "nbformat": 4,
 "nbformat_minor": 5
}
